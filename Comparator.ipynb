{
 "cells": [
  {
   "cell_type": "markdown",
   "id": "f6b69f27-7029-49f6-b282-f21fb4b08a08",
   "metadata": {},
   "source": [
    "# Compare Two 1-bit Binary Numbers\n"
   ]
  },
  {
   "cell_type": "code",
   "execution_count": 44,
   "id": "0ff23418-596b-4376-ac48-add78b50dc6c",
   "metadata": {},
   "outputs": [],
   "source": [
    "from qiskit import QuantumCircuit, QuantumRegister, ClassicalRegister, transpile\n",
    "from qiskit.visualization import plot_histogram\n",
    "from qiskit_aer import AerSimulator, AerProvider\n"
   ]
  },
  {
   "cell_type": "code",
   "execution_count": 10,
   "id": "265bb17e-8574-4251-8cbc-c2be73251cc7",
   "metadata": {},
   "outputs": [
    {
     "data": {
      "image/png": "[encoded data removed]",
      "text/plain": [
       "<Figure size 572.983x367.889 with 1 Axes>"
      ]
     },
     "execution_count": 10,
     "metadata": {},
     "output_type": "execute_result"
    }
   ],
   "source": [
    "def bit_compare():\n",
    "    qr = QuantumRegister(2, \"bits\")\n",
    "    aux = QuantumRegister(2, \"aux\")\n",
    "    \n",
    "    qc = QuantumCircuit(qr, aux)\n",
    "    qc.x(qr[1])\n",
    "    qc.mcx(qr, aux[0])\n",
    "    qc.x(qr[0])\n",
    "    qc.x(qr[1])\n",
    "    qc.mcx(qr, aux[1])\n",
    "    qc.x(qr[0])\n",
    "    \n",
    "    return qc\n",
    "\n",
    "bit_compare().draw(\"mpl\")"
   ]
  },
  {
   "cell_type": "code",
   "execution_count": 4,
   "id": "eba45415-ebbe-425b-81fc-b9299854c348",
   "metadata": {},
   "outputs": [],
   "source": [
    "def encode(number):\n",
    "    qr = QuantumRegister(1, \"number\")\n",
    "    qc = QuantumCircuit(qr)\n",
    "    if (number == 1):\n",
    "        qc.x(qr[0])\n",
    "    return qc"
   ]
  },
  {
   "cell_type": "code",
   "execution_count": 19,
   "id": "258813fc-0796-48d2-89ff-c54a96769f4d",
   "metadata": {},
   "outputs": [],
   "source": [
    "def compare(a, b):\n",
    "    qra = QuantumRegister(1, \"a\")\n",
    "    qrb = QuantumRegister(1, \"b\")\n",
    "    qraux = QuantumRegister(2, \"aux\")\n",
    "\n",
    "    qc = QuantumCircuit(qra, qrb, qraux)\n",
    "\n",
    "    qc.append(encode(a), [*qra])\n",
    "    qc.append(encode(b), [*qrb])\n",
    "\n",
    "    qc.append(bit_compare(), [*qra, *qrb, *qraux])\n",
    "\n",
    "    # Tell Qiskit how to simulate our circuit\n",
    "    backend = AerProvider.get_backend('statevector_simulator') \n",
    "\n",
    "    # Do the simulation, returning the result\n",
    "    result = execute(qc,backend, shots=1000).result()\n",
    "\n",
    "    # get the probability distribution\n",
    "    counts = result.get_counts()\n",
    "    \n",
    "    return counts"
   ]
  },
  {
   "cell_type": "code",
   "execution_count": 20,
   "id": "02559811-2cb5-417a-a28c-d31ce6c9523d",
   "metadata": {},
   "outputs": [
    {
     "ename": "TypeError",
     "evalue": "super(type, obj): obj must be an instance or subtype of type",
     "output_type": "error",
     "traceback": [
      "\u001b[0;31m---------------------------------------------------------------------------\u001b[0m",
      "\u001b[0;31mTypeError\u001b[0m                                 Traceback (most recent call last)",
      "Cell \u001b[0;32mIn[20], line 1\u001b[0m\n\u001b[0;32m----> 1\u001b[0m counts \u001b[38;5;241m=\u001b[39m \u001b[43mcompare\u001b[49m\u001b[43m(\u001b[49m\u001b[38;5;241;43m0\u001b[39;49m\u001b[43m,\u001b[49m\u001b[38;5;241;43m1\u001b[39;49m\u001b[43m)\u001b[49m\n\u001b[1;32m      2\u001b[0m plot_histogram(counts)\n",
      "Cell \u001b[0;32mIn[19], line 14\u001b[0m, in \u001b[0;36mcompare\u001b[0;34m(a, b)\u001b[0m\n\u001b[1;32m     11\u001b[0m qc\u001b[38;5;241m.\u001b[39mappend(bit_compare(), [\u001b[38;5;241m*\u001b[39mqra, \u001b[38;5;241m*\u001b[39mqrb, \u001b[38;5;241m*\u001b[39mqraux])\n\u001b[1;32m     13\u001b[0m \u001b[38;5;66;03m# Tell Qiskit how to simulate our circuit\u001b[39;00m\n\u001b[0;32m---> 14\u001b[0m backend \u001b[38;5;241m=\u001b[39m \u001b[43mAerProvider\u001b[49m\u001b[38;5;241;43m.\u001b[39;49m\u001b[43mget_backend\u001b[49m\u001b[43m(\u001b[49m\u001b[38;5;124;43m'\u001b[39;49m\u001b[38;5;124;43mstatevector_simulator\u001b[39;49m\u001b[38;5;124;43m'\u001b[39;49m\u001b[43m)\u001b[49m \n\u001b[1;32m     16\u001b[0m \u001b[38;5;66;03m# Do the simulation, returning the result\u001b[39;00m\n\u001b[1;32m     17\u001b[0m result \u001b[38;5;241m=\u001b[39m execute(qc,backend, shots\u001b[38;5;241m=\u001b[39m\u001b[38;5;241m1000\u001b[39m)\u001b[38;5;241m.\u001b[39mresult()\n",
      "File \u001b[0;32m/home/linuxbrew/.linuxbrew/opt/python@3.11/lib/python3.11/site-packages/qiskit_aer/aerprovider.py:67\u001b[0m, in \u001b[0;36mAerProvider.get_backend\u001b[0;34m(self, name, **kwargs)\u001b[0m\n\u001b[1;32m     66\u001b[0m \u001b[38;5;28;01mdef\u001b[39;00m \u001b[38;5;21mget_backend\u001b[39m(\u001b[38;5;28mself\u001b[39m, name\u001b[38;5;241m=\u001b[39m\u001b[38;5;28;01mNone\u001b[39;00m, \u001b[38;5;241m*\u001b[39m\u001b[38;5;241m*\u001b[39mkwargs):\n\u001b[0;32m---> 67\u001b[0m     \u001b[38;5;28;01mreturn\u001b[39;00m \u001b[38;5;28;43msuper\u001b[39;49m\u001b[43m(\u001b[49m\u001b[43m)\u001b[49m\u001b[38;5;241m.\u001b[39mget_backend(name\u001b[38;5;241m=\u001b[39mname, \u001b[38;5;241m*\u001b[39m\u001b[38;5;241m*\u001b[39mkwargs)\n",
      "\u001b[0;31mTypeError\u001b[0m: super(type, obj): obj must be an instance or subtype of type"
     ]
    }
   ],
   "source": [
    "counts = compare(0,1)\n",
    "plot_histogram(counts)"
   ]
  },
  {
   "cell_type": "markdown",
   "id": "cc3004bf-1f4f-4bb0-8466-467524bfdb60",
   "metadata": {},
   "source": [
    "# Compare Two n-bit strings "
   ]
  },
  {
   "cell_type": "code",
   "execution_count": 35,
   "id": "b96bd1db-ccce-4287-9d1b-bfa193dbce0e",
   "metadata": {},
   "outputs": [],
   "source": [
    "from qiskit import QuantumCircuit, QuantumRegister, ClassicalRegister\n",
    "from qiskit.visualization import plot_histogram\n",
    "from qiskit_aer import AerSimulator\n",
    "\n",
    "def bit_compare():\n",
    "    qr = QuantumRegister(2, \"bits\")\n",
    "    aux = QuantumRegister(2, \"aux\")\n",
    "    \n",
    "    qc = QuantumCircuit(qr, aux)\n",
    "    qc.x(qr[1])\n",
    "    qc.mcx(qr, aux[0])\n",
    "    qc.x(qr[0])\n",
    "    qc.x(qr[1])\n",
    "    qc.mcx(qr, aux[1])\n",
    "    qc.x(qr[0])\n",
    "    \n",
    "    return qc"
   ]
  },
  {
   "cell_type": "code",
   "execution_count": 28,
   "id": "d24cbaba-1979-43e3-936c-c0253b9cd3ca",
   "metadata": {},
   "outputs": [],
   "source": [
    "def encode(bit):\n",
    "    qr = QuantumRegister(1, \"number\")\n",
    "    qc = QuantumCircuit(qr)\n",
    "    if (bit == \"1\"):\n",
    "        qc.x(qr[0])\n",
    "    return qc"
   ]
  },
  {
   "cell_type": "markdown",
   "id": "0863d338-abfe-4ccf-9292-f1d70946fdba",
   "metadata": {},
   "source": [
    "The encode function takes a single-bit character. So, to encode an entire bitstring, we need to call this function multiple times."
   ]
  },
  {
   "cell_type": "code",
   "execution_count": 52,
   "id": "f868fb18-acf0-4c34-8453-9a23677ca66c",
   "metadata": {},
   "outputs": [],
   "source": [
    "from qiskit import ClassicalRegister\n",
    "# Create circuit with qubits for bitstring a and b + Auxs for caclulation\n",
    "def compare_bitstring(bitstring_a, bitstring_b, exec=True):\n",
    "    bits = len(bitstring_a)\n",
    "    qra = QuantumRegister(bits, \"a\")\n",
    "    qrb = QuantumRegister(bits, \"b\")\n",
    "    qraux = QuantumRegister(2*bits, \"aux\")\n",
    "    qrint = QuantumRegister(bits-1, \"int\")\n",
    "    cr = ClassicalRegister(2)\n",
    "\n",
    "    qc = QuantumCircuit(qra, qrb, qraux, qrint, cr)\n",
    "\n",
    "    for i in range(bits):\n",
    "        qc.append(encode(bitstring_a[i]), [qra[i]])\n",
    "        qc.append(encode(bitstring_b[i]), [qrb[i]])\n",
    "        qc.append(bit_compare(), [qra[i], qrb[i], qraux[2*i], qraux[2*i+1]])\n",
    "        \n",
    "        if i < bits-1:\n",
    "            qc.x(qraux[2*i])\n",
    "            qc.x(qraux[2*i+1])\n",
    "            qc.mcx([qraux[2*i], qraux[2*i+1]], qrint[i])\n",
    "            qc.x(qraux[2*i])\n",
    "            qc.x(qraux[2*i+1])\n",
    "        \n",
    "    for i in range(0, bits-1):\n",
    "        qc.mcx([qraux[2*(-i-1)],  qrint[-i]], qraux[2*(-i)])\n",
    "        qc.mcx([qraux[2*(-i-1)+1],  qrint[-i]], qraux[2*(-i)+1])\n",
    "        \n",
    "    qc.measure(qraux[0], cr[0])\n",
    "    qc.measure(qraux[1], cr[1])\n",
    "    \n",
    "    if exec:\n",
    "        # Transpile for simulator\n",
    "        simulator = AerSimulator()\n",
    "        circ = transpile(qc, simulator)\n",
    "        \n",
    "        # Run and get counts\n",
    "        result = simulator.run(circ, shots=1000).result()\n",
    "        counts = result.get_counts(circ)\n",
    "\n",
    "        return counts\n",
    "    else:\n",
    "        return qc"
   ]
  },
  {
   "cell_type": "markdown",
   "id": "9a32ff5e-7a31-447f-9516-0e388b09219e",
   "metadata": {},
   "source": [
    "The compare_bitstring function takes two bitstrings as input parameters. Further, we can specify whether we want to execute (exec) the circuit right away and return the results, or whether we want to get back the circuit (exec=False).\n",
    "\n",
    "1. First, we calculate the number of bits (qubits) we require to represent the numbers. We expect both numbers to have the same length. So, if one number is smaller than the other, we would need to add leading zeros.\n",
    "2. qraux contains the auxiliary qubits we need to compare single digits. Since we need two of them to compare a single digit, we need 2*bits of them.\n",
    "3. The qrint register further contains “intermediate” qubits that we need to connect the results of comparing single digits."
   ]
  },
  {
   "cell_type": "code",
   "execution_count": 53,
   "id": "b9aa3fac-7f65-468e-86dc-86cb91ce2553",
   "metadata": {},
   "outputs": [
    {
     "data": {
      "text/plain": [
       "{'01': 1000}"
      ]
     },
     "execution_count": 53,
     "metadata": {},
     "output_type": "execute_result"
    }
   ],
   "source": [
    "compare_bitstring('100','011')"
   ]
  },
  {
   "cell_type": "code",
   "execution_count": null,
   "id": "9f54d334-6885-4875-822e-d4f631067808",
   "metadata": {},
   "outputs": [],
   "source": []
  }
 ],
 "metadata": {
  "kernelspec": {
   "display_name": "Python 3 (ipykernel)",
   "language": "python",
   "name": "python3"
  },
  "language_info": {
   "codemirror_mode": {
    "name": "ipython",
    "version": 3
   },
   "file_extension": ".py",
   "mimetype": "text/x-python",
   "name": "python",
   "nbconvert_exporter": "python",
   "pygments_lexer": "ipython3",
   "version": "3.11.5"
  }
 },
 "nbformat": 4,
 "nbformat_minor": 5
}
