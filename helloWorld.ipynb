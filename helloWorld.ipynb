{
 "cells": [
  {
   "cell_type": "markdown",
   "id": "1f2ab038-1a8a-41e7-b07a-cd586ae55e86",
   "metadata": {},
   "source": [
    "# Hello World Tutorial from IBM Qiskit"
   ]
  },
  {
   "cell_type": "markdown",
   "id": "fdca2edf-4e92-4f47-a52e-39dbfe4a8910",
   "metadata": {},
   "source": [
    "In a quantum program, quantum circuits are the native format in which to represent quantum instructions, and operators represent the observables to be measured."
   ]
  },
  {
   "cell_type": "markdown",
   "id": "fd86ad3a-8b6f-43f2-8a40-7554525d8329",
   "metadata": {},
   "source": [
    "# Step 1. Map the problem to a quantum-native format "
   ]
  },
  {
   "cell_type": "markdown",
   "id": "dc909194-b0fb-4a04-b3b4-300f86aef280",
   "metadata": {},
   "source": [
    "The following code cell creates a circuit that produces a Bell state, which is a specific two-qubit entangled state."
   ]
  },
  {
   "cell_type": "code",
   "execution_count": 8,
   "id": "2448243c-86be-4eb0-b2ce-2024f69d2185",
   "metadata": {},
   "outputs": [
    {
     "data": {
      "image/png": "[encoded data removed]",
      "text/plain": [
       "<Figure size 287.294x200.667 with 1 Axes>"
      ]
     },
     "execution_count": 8,
     "metadata": {},
     "output_type": "execute_result"
    }
   ],
   "source": [
    "from qiskit import QuantumCircuit\n",
    "from qiskit.quantum_info import SparsePauliOp\n",
    "from qiskit.transpiler.preset_passmanagers import generate_preset_pass_manager\n",
    "from qiskit_ibm_runtime import QiskitRuntimeService, EstimatorV2 as Estimator\n",
    " \n",
    "# Create a new circuit with two qubits (first argument) and two classical\n",
    "# bits (second argument)\n",
    "qc = QuantumCircuit(2)\n",
    " \n",
    "# Add a Hadamard gate to qubit 0\n",
    "qc.h(0)\n",
    " \n",
    "# Perform a controlled-X gate on qubit 1, controlled by qubit 0\n",
    "qc.cx(0, 1)\n",
    " \n",
    "# Return a drawing of the circuit using MatPlotLib (\"mpl\"). This is the\n",
    "# last line of the cell, so the drawing appears in the cell output.\n",
    "# Remove the \"mpl\" argument to get a text drawing.\n",
    "qc.draw(\"mpl\")"
   ]
  },
  {
   "cell_type": "markdown",
   "id": "3f997cfa-5f49-4409-a3d8-387e5e657250",
   "metadata": {},
   "source": [
    "The following code cell uses the quantum_info package to create the two-qubit Pauli operator Z on qubit 0 and Z on qubit 1. If the state is entangled, then the correlation between qubit 0 and qubit 1 is one."
   ]
  },
  {
   "cell_type": "code",
   "execution_count": 24,
   "id": "5f21090e-37bc-46b5-9d8b-ae251ffe56be",
   "metadata": {},
   "outputs": [],
   "source": [
    "# Set up six different observables.\n",
    "observables_labels = [\"ZZ\", \"ZI\", \"IZ\", \"XX\", \"XI\"]\n",
    "observables = [SparsePauliOp(label) for label in observables_labels]"
   ]
  },
  {
   "cell_type": "markdown",
   "id": "06485a62-60bc-400b-9605-8e23366c8fa4",
   "metadata": {},
   "source": [
    "## Step 2. Optimize the circuits and operators"
   ]
  },
  {
   "cell_type": "markdown",
   "id": "b504d649-1e68-48d0-9a23-09496dd3ade7",
   "metadata": {},
   "source": [
    "Even though the circuit and operators for this example are quite simple, we still need to convert its instructions into those of a backend device's Instruction Set Architecture (ISA). This ensures the circuit complies with the constraints of a device (namely its native basis gates and qubit connectivity)."
   ]
  },
  {
   "cell_type": "code",
   "execution_count": 12,
   "id": "ec781074-7412-4302-bef9-5d0e41db945c",
   "metadata": {},
   "outputs": [
    {
     "data": {
      "image/png": "[encoded data removed]",
      "text/plain": [
       "<Figure size 506.997x200.667 with 1 Axes>"
      ]
     },
     "execution_count": 12,
     "metadata": {},
     "output_type": "execute_result"
    }
   ],
   "source": [
    "# If you did not previously save your credentials, use the following line instead:\n",
    "# service = QiskitRuntimeService(channel=\"ibm_quantum\", token=\"<MY_IBM_QUANTUM_TOKEN>\")\n",
    "service = QiskitRuntimeService(channel=\"ibm_quantum\", token=\"340f0988ee08967d19be380d6bd213d8d4ff3ee0fe657cd3154f70abc42c1568fdd485cc84a0caa0a658e61d03c13f5f1e6838f6ea9bf2aa2b87cf8cd840b676\")\n",
    " \n",
    "# Use the following code instead if you want to run on a simulator:\n",
    "from qiskit_ibm_runtime.fake_provider import FakeCairoV2\n",
    "backend = FakeCairoV2()\n",
    " \n",
    "# Run on the least-busy backend you have access to\n",
    "# backend = service.least_busy(simulator=False, operational=True)\n",
    " \n",
    "# Convert to an ISA circuit and layout-mapped observables.\n",
    "pm = generate_preset_pass_manager(backend=backend, optimization_level=1)\n",
    "isa_circuit = pm.run(qc)\n",
    " \n",
    "isa_circuit.draw('mpl', idle_wires=False)"
   ]
  },
  {
   "cell_type": "markdown",
   "id": "a7af3e4c-618f-46b1-96dd-4549a22fea98",
   "metadata": {},
   "source": [
    "## Step 3. Execute using a quantum primitive function"
   ]
  },
  {
   "cell_type": "markdown",
   "id": "8b00f56f-f401-4f1f-9e27-f9bdc417ed01",
   "metadata": {},
   "source": [
    "Quantum computers can produce random results, so you'll often want to collect a sample of the outputs by running the circuit many times. You can estimate the value of the observable using the Estimator class. Estimator is one of our two primitives; the other is Sampler, which can be used to get data from a quantum computer. These objects possess a run() method that executes the selection of circuits, observables, and parameters (if applicable), using what's known as a primitive unified bloc (PUB)."
   ]
  },
  {
   "cell_type": "code",
   "execution_count": 25,
   "id": "000923d5-39b0-4aad-9cd2-58b5e2be9d4a",
   "metadata": {},
   "outputs": [
    {
     "ename": "AttributeError",
     "evalue": "'DataBin' object has no attribute 'ensemble_standard_error'",
     "output_type": "error",
     "traceback": [
      "\u001b[0;31m---------------------------------------------------------------------------\u001b[0m",
      "\u001b[0;31mAttributeError\u001b[0m                            Traceback (most recent call last)",
      "Cell \u001b[0;32mIn[25], line 22\u001b[0m\n\u001b[1;32m     18\u001b[0m \u001b[38;5;66;03m# This is the result from our single pub, which had five observables,\u001b[39;00m\n\u001b[1;32m     19\u001b[0m \u001b[38;5;66;03m# so contains information on all five.\u001b[39;00m\n\u001b[1;32m     20\u001b[0m pub_result \u001b[38;5;241m=\u001b[39m job\u001b[38;5;241m.\u001b[39mresult()[\u001b[38;5;241m0\u001b[39m]\n\u001b[0;32m---> 22\u001b[0m \u001b[43mpub_result\u001b[49m\u001b[38;5;241;43m.\u001b[39;49m\u001b[43mdata\u001b[49m\u001b[38;5;241;43m.\u001b[39;49m\u001b[43mensemble_standard_error\u001b[49m\n",
      "\u001b[0;31mAttributeError\u001b[0m: 'DataBin' object has no attribute 'ensemble_standard_error'"
     ]
    }
   ],
   "source": [
    "# Construct the Estimator instance we want to use.\n",
    " \n",
    "estimator = Estimator(backend)\n",
    "estimator.options.resilience_level = 1\n",
    "# estimator.options.default_shots = 5000\n",
    " \n",
    "observables = [\n",
    "    observable.apply_layout(isa_circuit.layout) for observable in observables\n",
    "]\n",
    " \n",
    "# One pub, with one circuit to run against five different observables.\n",
    "job = estimator.run([(isa_circuit, observables)])\n",
    " \n",
    "# This is the result of the entire submission.  We submitted one Pub,\n",
    "# so this contains one inner result (and some metadata of its own).\n",
    "job_result = job.result()\n",
    " \n",
    "# This is the result from our single pub, which had five observables,\n",
    "# so contains information on all five.\n",
    "pub_result = job.result()[0]\n",
    "\n",
    "pub_result.data.ensemble_standard_error"
   ]
  },
  {
   "cell_type": "code",
   "execution_count": 26,
   "id": "4a425eac-61a4-4215-af78-fecaf0d3bc77",
   "metadata": {},
   "outputs": [
    {
     "data": {
      "text/plain": [
       "<ErrorbarContainer object of 3 artists>"
      ]
     },
     "execution_count": 26,
     "metadata": {},
     "output_type": "execute_result"
    },
    {
     "data": {
      "image/png": "[encoded data removed]",
      "text/plain": [
       "<Figure size 640x480 with 1 Axes>"
      ]
     },
     "metadata": {},
     "output_type": "display_data"
    }
   ],
   "source": [
    "# Plot the result\n",
    " \n",
    "from matplotlib import pyplot as plt\n",
    " \n",
    "data = observables_labels\n",
    "values = pub_result.data.evs\n",
    " \n",
    "# errors = pub_result.data.ensemble_standard_error\n",
    " \n",
    "# plt.errorbar(observables_labels, values, yerr=errors, fmt=\"o\")\n",
    "plt.errorbar(observables_labels, values, fmt=\"o\")"
   ]
  },
  {
   "cell_type": "code",
   "execution_count": null,
   "id": "70c9c40c-7f49-4f36-b4fc-4aa0e79880a3",
   "metadata": {},
   "outputs": [],
   "source": []
  }
 ],
 "metadata": {
  "kernelspec": {
   "display_name": "Python 3 (ipykernel)",
   "language": "python",
   "name": "python3"
  },
  "language_info": {
   "codemirror_mode": {
    "name": "ipython",
    "version": 3
   },
   "file_extension": ".py",
   "mimetype": "text/x-python",
   "name": "python",
   "nbconvert_exporter": "python",
   "pygments_lexer": "ipython3",
   "version": "3.11.5"
  }
 },
 "nbformat": 4,
 "nbformat_minor": 5
}
