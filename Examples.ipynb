{
 "cells": [
  {
   "cell_type": "markdown",
   "id": "4177cb02-ec9f-42dd-b341-89856194eeb5",
   "metadata": {},
   "source": [
    "# Examples"
   ]
  },
  {
   "cell_type": "markdown",
   "id": "0f28b1db-419d-4cf1-9719-dbfc48878d0b",
   "metadata": {},
   "source": [
    "## 1"
   ]
  },
  {
   "cell_type": "code",
   "execution_count": 1,
   "id": "c7ba2bce-b9ac-4690-8531-4fd667654544",
   "metadata": {},
   "outputs": [
    {
     "data": {
      "text/plain": [
       "<qiskit.circuit.instructionset.InstructionSet at 0x7fcf8b2e77c0>"
      ]
     },
     "execution_count": 1,
     "metadata": {},
     "output_type": "execute_result"
    }
   ],
   "source": [
    "import numpy as np\n",
    "from qiskit import QuantumCircuit\n",
    "\n",
    "# 1. A quantum circuit for preparing the quantum state |000> + i |111>\n",
    "qc_example = QuantumCircuit(3)\n",
    "qc_example.h(0)          # generate superpostion\n",
    "qc_example.p(np.pi/2,0)  # add quantum phase\n",
    "qc_example.cx(0,1)       # 0th-qubit-Controlled-NOT gate on 1st qubit\n",
    "qc_example.cx(0,2)       # 0th-qubit-Controlled-NOT gate on 2nd qubit"
   ]
  },
  {
   "cell_type": "code",
   "execution_count": 3,
   "id": "d447b03b-dcc4-4d3d-b6a7-61d0c4fa08d5",
   "metadata": {},
   "outputs": [
    {
     "name": "stdout",
     "output_type": "stream",
     "text": [
      " > Quasi probability distribution: [{0: 0.49, 7: 0.51}]\n"
     ]
    }
   ],
   "source": [
    "# 2. Add the classical output in the form of measurement of all qubits\n",
    "qc_measured = qc_example.measure_all(inplace=False)\n",
    "\n",
    "# 3. Execute using the Sampler primitive\n",
    "from qiskit.primitives.sampler import Sampler\n",
    "sampler = Sampler()\n",
    "job = sampler.run(qc_measured, shots=1000)\n",
    "result = job.result()\n",
    "print(f\" > Quasi probability distribution: {result.quasi_dists}\")"
   ]
  },
  {
   "cell_type": "code",
   "execution_count": null,
   "id": "aaf27209-4b10-4461-b933-817715b32745",
   "metadata": {},
   "outputs": [],
   "source": []
  }
 ],
 "metadata": {
  "kernelspec": {
   "display_name": "Python 3 (ipykernel)",
   "language": "python",
   "name": "python3"
  },
  "language_info": {
   "codemirror_mode": {
    "name": "ipython",
    "version": 3
   },
   "file_extension": ".py",
   "mimetype": "text/x-python",
   "name": "python",
   "nbconvert_exporter": "python",
   "pygments_lexer": "ipython3",
   "version": "3.11.5"
  }
 },
 "nbformat": 4,
 "nbformat_minor": 5
}
